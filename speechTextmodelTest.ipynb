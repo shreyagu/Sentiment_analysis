{
 "cells": [
  {
   "cell_type": "code",
   "execution_count": null,
   "metadata": {},
   "outputs": [],
   "source": [
    "import pandas as pd\n",
    "import numpy as np\n",
    "import sys\n",
    "import matplotlib.pyplot as plt\n",
    "from sklearn import metrics\n",
    "from sklearn.linear_model import LogisticRegression\n",
    "from sklearn import preprocessing\n",
    "from sklearn.metrics import roc_curve, auc\n",
    "from sklearn.metrics import classification_report\n",
    "from sklearn.externals import joblib\n",
    "import speech_recognition as sr\n",
    "import sys\n",
    "from scipy.io import wavfile\n",
    "import os\n",
    "\n",
    "\n",
    "r = sr.Recognizer()\n",
    "data= os.path.join(os.path.dirname(os.path.abspath(\"speechTextmodelTest.ipynb\")), \"data/Review.wav\")\n",
    "f = open(\"input.txt\",\"w+\")\n",
    "with sr.AudioFile(data) as source:\n",
    "    audio = r.record(source)  # read the entire audio file\n",
    "try:\n",
    "    # for testing purposes, we're just using the default API key\n",
    "    # to use another API key, use `r.recognize_google(audio, key=\"GOOGLE_SPEECH_RECOGNITION_API_KEY\")`\n",
    "    # instead of `r.recognize_google(audio)`\n",
    "    print(\"Google Speech Recognition thinks you said:\\n \" + r.recognize_google(audio))\n",
    "    f.write(str(r.recognize_google(audio)))\n",
    "except sr.UnknownValueError:\n",
    "    print(\"Google Speech Recognition could not understand audio\")\n",
    "except sr.RequestError as e:\n",
    "    print(\"Could not request results from Google Speech Recognition service; {0}\".format(e))\n",
    "f.close()\n",
    "\n",
    "X_test = []\n",
    "with open(\"input.txt\",\"rb\") as fp:\n",
    "    line = fp.readline()\n",
    "    X_test.append(line)\n",
    "\n",
    "vectorizer = joblib.load('data/Vectorizer_model_full.bin')\n",
    "\n",
    "clf = joblib.load('data/LSVCModel.bin')\n",
    "\n",
    "\n",
    "X_test = vectorizer.transform(X_test)\n",
    "\n",
    "\n",
    "\n",
    "y_pred = clf.predict(X_test)\n",
    "\n",
    "\n",
    "fp = open('output.txt', \"w+\")\n",
    "fp.write(str(y_pred[0]))\n",
    "fp.close()\n"
   ]
  }
 ],
 "metadata": {
  "kernelspec": {
   "display_name": "Python 3",
   "language": "python",
   "name": "python3"
  },
  "language_info": {
   "codemirror_mode": {
    "name": "ipython",
    "version": 3
   },
   "file_extension": ".py",
   "mimetype": "text/x-python",
   "name": "python",
   "nbconvert_exporter": "python",
   "pygments_lexer": "ipython3",
   "version": "3.6.5"
  }
 },
 "nbformat": 4,
 "nbformat_minor": 2
}
